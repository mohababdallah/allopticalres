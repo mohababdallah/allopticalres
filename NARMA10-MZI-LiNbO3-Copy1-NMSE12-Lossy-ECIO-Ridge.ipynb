{
 "cells": [
  {
   "cell_type": "code",
   "execution_count": 1,
   "id": "classical-depression",
   "metadata": {},
   "outputs": [
    {
     "data": {
      "text/plain": [
       "'1.6.0'"
      ]
     },
     "execution_count": 1,
     "metadata": {},
     "output_type": "execute_result"
    }
   ],
   "source": [
    "#import sys\n",
    "#sys.path.append('C:\\\\Users\\\\mabdalla\\\\OneDrive - ec-lyon.fr\\\\Documents\\\\Python Scripts\\\\packages')\n",
    "import torch\n",
    "import numpy as np\n",
    "import photontorch as pt\n",
    "from sklearn import datasets, linear_model\n",
    "from sklearn.metrics import mean_squared_error\n",
    "from photontorch.environment import current_environment\n",
    "#import matplotlib as mpl\n",
    "import matplotlib.pyplot as plt\n",
    "from scipy.signal import butter#, lfilter\n",
    "import pandas as pd \n",
    "from photontorch import BoundedParameter\n",
    "from ipywidgets import interact\n",
    "from tqdm.notebook import trange\n",
    "torch.__version__"
   ]
  },
  {
   "cell_type": "markdown",
   "id": "acceptable-wagner",
   "metadata": {},
   "source": [
    "### Components: Mask"
   ]
  },
  {
   "cell_type": "code",
   "execution_count": 2,
   "id": "insured-apollo",
   "metadata": {},
   "outputs": [],
   "source": [
    "class mask(pt.Component):\n",
    "    \"\"\"\n",
    "    A masking signal that is either binary or from a standard distribution.\n",
    "\n",
    "    Terms: \n",
    "        0 ---- 1 \n",
    "    \n",
    "    \"\"\"       \n",
    "    num_ports = 2\n",
    "    \n",
    "    def __init__(\n",
    "        self,\n",
    "        m_length = 5,\n",
    "        mask_vector=torch.ones(5),\n",
    "        name=None,\n",
    "    ):\n",
    "        \n",
    "        super(mask,self).__init__(name=name)\n",
    "        self.m_length = int(m_length)\n",
    "        self.mask_vector = mask_vector\n",
    "        self.counter = -1\n",
    "        \n",
    "        #print(x)\n",
    "        \n",
    "        \n",
    "    def action(self,t,x_in,x_out):\n",
    "        a_in, _ = x_in\n",
    "        \n",
    "        x_out[0] = a_in  #Nothing happens to input node        \n",
    "        \n",
    "        self.counter = self.counter + 1\n",
    "            \n",
    "        x_out[1] = a_in * self.mask_vector[self.counter]\n",
    "        #print(x_out[1])\n",
    "        if self.counter == self.m_length-1:\n",
    "            self.counter = -1\n",
    "            \n",
    "    def set_actions_at(self, actions_at):\n",
    "        actions_at[:] = 1\n",
    "        \n",
    "    def set_S(self,S):\n",
    "        S[0,:,0,0] = 1.0\n",
    "        S[0,:,1,1] = 1.0\n",
    "        return S"
   ]
  },
  {
   "cell_type": "markdown",
   "id": "systematic-yorkshire",
   "metadata": {},
   "source": [
    "### Constructing the Reservoir Circuit"
   ]
  },
  {
   "cell_type": "code",
   "execution_count": 3,
   "id": "graduate-slovakia",
   "metadata": {},
   "outputs": [
    {
     "name": "stdout",
     "output_type": "stream",
     "text": [
      "tensor([], dtype=torch.int64)\n"
     ]
    }
   ],
   "source": [
    "class dc_reservoir(pt.Network):\n",
    "    def __init__(self, wg_delay=1e-9, wg_phase=0, ring_per=2*np.pi*6.75e-6, tr=0.9, loss=200,\n",
    "                 nodes=25, mask_vector=torch.ones(10, dtype=torch.float64), \n",
    "                 weights = 0.1*torch.rand(25, dtype=torch.float64),\n",
    "                 neff = 2.2111, ng = 2.2637, mzi_l1=1e-3, mzi_l2=1e-3, mzi_fb = 3.88e-3):\n",
    "        super(dc_reservoir, self).__init__()\n",
    "        self.src = pt.Source()\n",
    "        \n",
    "        length=299792458*wg_delay/ng\n",
    "        self.det = pt.Detector()\n",
    "        self.mask = mask(m_length=nodes, mask_vector = mask_vector)\n",
    "        self.term = pt.Term()\n",
    "        self.dc1 = self.dc2 = pt.DirectionalCoupler(1-tr)\n",
    "        self.wg1 = pt.Waveguide(length=mzi_l1, ng = ng, neff = neff, loss=loss)\n",
    "        #self.wg2 = pt.Waveguide(length=length, ng = ng, neff = neff, loss=loss)\n",
    "        #self.fb = pt.Waveguide(neff = neff, ng=ng, length=length-mzi_l2, phase=wg_phase, loss=loss)\n",
    "        self.wg2 = pt.Waveguide(length=mzi_l2, ng = ng, neff = neff, loss=loss)\n",
    "        self.fb = pt.Waveguide(neff = neff, ng=ng, length=mzi_fb, phase=wg_phase, loss=loss)\n",
    "        self.link('src:0', '0:mask:1', '0:dc1:1', '0:wg1:1', '0:dc2:1', '0:det')\n",
    "        self.link('dc2:2', '0:wg2:1', '3:dc1')\n",
    "        self.link('dc2:3', '0:fb:1', '2:dc1')\n",
    "        #print(self.graph(draw=True))\n",
    "        #print(length-mzi_l2)\n",
    "\n",
    "print(torch.where(dc_reservoir().free_ports_at)[0])\n"
   ]
  },
  {
   "cell_type": "code",
   "execution_count": 4,
   "id": "owned-heath",
   "metadata": {},
   "outputs": [],
   "source": [
    "class dc_reservoir_freq(pt.Network):\n",
    "    def __init__(self, wg_delay=1e-9, wg_phase=0, tr=0.9,\n",
    "                 neff = 2.2111, ng = 2.2637, mzi_l1=1e-3, mzi_l2=1e-3, mzi_fb=3.88e-3, loss=200):\n",
    "        super(dc_reservoir_freq, self).__init__()\n",
    "        length=299792458*wg_delay/ng\n",
    "\n",
    "        self.src = pt.Source()\n",
    "        self.det = pt.Detector()\n",
    "        self.term = pt.Term()\n",
    "        self.dc1 = self.dc2 = pt.DirectionalCoupler(1-tr)\n",
    "        self.wg1 = pt.Waveguide(length=mzi_l1, ng = ng, neff=neff, loss=loss)\n",
    "        #self.wg2 = pt.Waveguide(length=length, ng = ng, neff=neff, loss=loss)\n",
    "        #self.fb = pt.Waveguide(ng=ng, neff=neff, length=length-mzi_l2, phase=wg_phase, loss=loss)\n",
    "        self.wg2 = pt.Waveguide(length=mzi_l2, ng = ng, neff = neff, loss=loss)\n",
    "        self.fb = pt.Waveguide(neff = neff, ng=ng, length=mzi_fb, phase=wg_phase, loss=loss)\n",
    "        self.link('src:0', '0:dc1:1', '0:wg1:1', '0:dc2:1', '0:det')\n",
    "        self.link('dc2:2', '0:wg2:1', '3:dc1')\n",
    "        self.link('dc2:3', '0:fb:1', '2:dc1')\n",
    "        #print(self.graph(draw=True))\n",
    "        #print(length-mzi_l2)"
   ]
  },
  {
   "cell_type": "code",
   "execution_count": 5,
   "id": "rapid-minneapolis",
   "metadata": {},
   "outputs": [
    {
     "name": "stdout",
     "output_type": "stream",
     "text": [
      "tensor([], dtype=torch.int64)\n"
     ]
    }
   ],
   "source": [
    "class mzi_response(pt.Network):\n",
    "    def __init__(self, wg_delay=1e-9, wg_phase=0, tr=0.9,\n",
    "                 neff = 2.2111, ng = 2.2637, mzi_l1=1e-3, mzi_l2=1e-3, loss=20):\n",
    "        super(mzi_response, self).__init__()\n",
    "        self.src = pt.Source()\n",
    "        self.det = pt.Detector()\n",
    "        self.term1 = self.term2 = pt.Term()\n",
    "        self.dc1 = self.dc2 = pt.DirectionalCoupler(1-tr)\n",
    "        self.wg1 = pt.Waveguide(length=mzi_l1, ng = ng, neff=neff, loss=loss, phase=wg_phase)\n",
    "        self.wg2 = pt.Waveguide(length=mzi_l2, ng = ng, neff=neff, loss=loss)\n",
    "        self.link('src:0', '0:dc1:1', '0:wg1:1', '0:dc2:1', '0:det')\n",
    "        self.link('term1:0', '3:dc2:2', '0:wg2:1', '3:dc1:2', '0:term2')\n",
    "\n",
    "print(torch.where(dc_reservoir().free_ports_at)[0])"
   ]
  },
  {
   "cell_type": "markdown",
   "id": "arranged-holly",
   "metadata": {},
   "source": [
    "## Constructing Delay Line Reservoir"
   ]
  },
  {
   "cell_type": "code",
   "execution_count": 6,
   "id": "square-lawsuit",
   "metadata": {},
   "outputs": [
    {
     "name": "stdout",
     "output_type": "stream",
     "text": [
      "tensor([], dtype=torch.int64)\n"
     ]
    }
   ],
   "source": [
    "class delay_line(pt.Network):\n",
    "    def __init__(self, wg_delay=1e-9, wg_phase=0,\n",
    "                 nodes=25, mask_vector=torch.ones(10, dtype=torch.float64), \n",
    "                 weights = 0.1*torch.rand(25, dtype=torch.float64),\n",
    "                 neff = 2.2111, ng = 2.2637):\n",
    "        super(delay_line, self).__init__()\n",
    "        length=299792458*wg_delay/ng\n",
    "        self.src = pt.Source()\n",
    "        self.det = pt.Detector()\n",
    "        self.mask = mask(m_length=nodes, mask_vector = mask_vector)\n",
    "        self.wg = pt.Waveguide(length=length, ng = ng, neff = neff, loss = 20)\n",
    "        self.link('src:0', '0:mask:1', '0:wg:1', '0:det')\n",
    "        #print(self.graph(draw=True))\n",
    "print(torch.where(delay_line().free_ports_at)[0])"
   ]
  },
  {
   "cell_type": "markdown",
   "id": "owned-fellow",
   "metadata": {},
   "source": [
    "## Simulation Setup"
   ]
  },
  {
   "cell_type": "code",
   "execution_count": 7,
   "id": "active-ratio",
   "metadata": {},
   "outputs": [],
   "source": [
    "'''------- Generate uniform distribution between 0 and 0.5 -------'''\n",
    "\n",
    "class Narma10Generator(np.random.RandomState):\n",
    "    def __call__(self, N, B=1):\n",
    "        u = (0.5-0)*self.rand(N,B)\n",
    "        return u"
   ]
  },
  {
   "cell_type": "code",
   "execution_count": 8,
   "id": "covered-antenna",
   "metadata": {},
   "outputs": [],
   "source": [
    "'''----- NARMA10 TASK -----'''\n",
    "\n",
    "def narma10_jaeger(x):\n",
    "    \n",
    "    size = len(x)\n",
    "    y = torch.zeros(x.shape)\n",
    "    for n in range(10,size):\n",
    "        y[n] = 0.3*y[n-1] + 0.05*y[n-1]*(y[n-1]+y[n-2]+y[n-3] \\\n",
    "            +y[n-4]+y[n-5]+y[n-6]+y[n-7]+y[n-8]+y[n-9]+y[n-10]) \\\n",
    "            + 1.5*x[n-10]*x[n-1] + 0.1\n",
    "    return y\n",
    "\n",
    "TARGET = narma10_jaeger "
   ]
  },
  {
   "cell_type": "code",
   "execution_count": 9,
   "id": "chinese-malta",
   "metadata": {
    "scrolled": true
   },
   "outputs": [],
   "source": [
    "'''----- SIMULATION PARAMETERS -----'''\n",
    "\n",
    "# ----- General Parameters -----\n",
    "c = 299792458.0                           #[m/s] speed of light\n",
    "Rb = 1e9                                  #[1/s] bitrate\n",
    "Rs = 35*Rb                                #[1/s] samplerate\n",
    "fc = 2e9                                  #[1/s] cutoff frequency for bit generation\n",
    "wl0 = 1550e-9                             #[m] center wavelength\n",
    "neff = 2.2111     #1.4440                 #[1] effective index of fiber spool\n",
    "ng = 2.2637       #1.4626                 #[1] group index of fiber spool\n",
    "neff_mzm = 2.2111                         #[1] Effective index of lithium niobate (modulator)\n",
    "ng_mzm = 2.2637                           #[1] Group index of lithium niobate (modulator)\n",
    "N = 3200                                  #[1] number of bits per bit stream\n",
    "B = 1                                     #[1] Number of bit streams in training batch\n",
    "sim_time = N/Rb                           #[s] Simulation time \n",
    "wl = 1.55e-6                              #[m] Center Wavelength\n",
    "Str, Sva, Ste = (10, 5, 3)                #[1] train seed, validation seed, test seed\n",
    "Lr = (1/Rb) * (c/ng)                      #[m] reference length (distance a bit travels during one bit period)\n",
    "device = torch.device(\"cpu\")              #default device used\n",
    "torch.set_default_dtype(torch.float32)    #default dtype used\n",
    "torch.manual_seed(3)                      #pytorch seed\n",
    "np.random.seed(42)                        #numpy seed\n",
    "\n",
    "\n",
    "# ----- Reservoir Parameters -----\n",
    "las_pow = 1                               #[1] Laser Power\n",
    "wg_delay = 1.0e-9 #equivalent to k=1      #[s] Delay tao(Along with group index below)\n",
    "fb_att = 0.1                              #[1] Feedback attenuation (strength)\n",
    "fb_phase=0                                #[1] Feedback phase\n",
    "Nodes = np.int(Rs/Rb)                     #[1] Number of virtual nodes in the reservoir\n",
    "mask_vector = 0.2*torch.rand(Nodes)       #Input mask"
   ]
  },
  {
   "cell_type": "markdown",
   "id": "funded-height",
   "metadata": {},
   "source": [
    "## MZI Response"
   ]
  },
  {
   "cell_type": "code",
   "execution_count": 10,
   "id": "floral-serial",
   "metadata": {},
   "outputs": [
    {
     "data": {
      "image/png": "[encoded data removed]",
      "text/plain": [
       "<Figure size 432x288 with 1 Axes>"
      ]
     },
     "metadata": {
      "needs_background": "light"
     },
     "output_type": "display_data"
    }
   ],
   "source": [
    "wavelengths = 1e-9*np.linspace(1549.98,1550.5,1000)\n",
    "freq_env = pt.Environment(wl=wavelengths, freqdomain=True)\n",
    "wg_phase_=0#3*np.pi/4\n",
    "tr_=0.5\n",
    "wg_delay_=1.02e-9\n",
    "wl0_=1.55e-6\n",
    "Bits=N\n",
    "mzi_l1 = 1e-3\n",
    "mzi_l2 = 3.88e-3\n",
    "loss= 200\n",
    "\n",
    "mzi = mzi_response(wg_delay=wg_delay_, wg_phase=wg_phase_, \n",
    "                            ng=ng, tr=tr_, neff=neff, mzi_l1=mzi_l1,\n",
    "                            mzi_l2 = mzi_l2, loss=loss)\n",
    "\n",
    "with freq_env:\n",
    "    detected_mzi = mzi(source=1)\n",
    "    \n",
    "mzi.plot(detected_mzi)\n",
    "#mpl.rcParams['font.family'] = 'Avenir'\n",
    "#plt.rcParams['font.size'] = 12\n",
    "#plt.rcParams['axes.linewidth'] = 1\n",
    "#plt.xlim(1549.5e3, 1550.7e-3)\n",
    "plt.ylim(0, 1.05)\n",
    "plt.show()\n",
    "#detected_mzi"
   ]
  },
  {
   "cell_type": "code",
   "execution_count": 11,
   "id": "tight-tunnel",
   "metadata": {},
   "outputs": [],
   "source": [
    "'''----- BITSTREAM GENERATION -----'''\n",
    "streamgen = pt.BitStreamGenerator(bitrate=Rb, samplerate=Rs, cutoff_frequency=fc, device=device)"
   ]
  },
  {
   "cell_type": "code",
   "execution_count": 12,
   "id": "miniature-substitute",
   "metadata": {},
   "outputs": [],
   "source": [
    "'''----- BITSTREAMS -----'''\n",
    "\n",
    "# train streams\n",
    "trbits = Narma10Generator(seed=Str)(N, 1) # N bits per train stream, B train streams per batch.\n",
    "trstream = streamgen(trbits)\n",
    "trtarget = streamgen(TARGET(trbits))\n",
    "trtarget_np = trtarget.numpy()\n",
    "\n",
    "# validation streams\n",
    "vabits = Narma10Generator(seed=Sva)(N, 1) # N bits per validation stream, 1 validation stream per batch.\n",
    "vastream = streamgen(vabits)\n",
    "vatarget = streamgen(TARGET(vabits))\n",
    "\n",
    "# test streams\n",
    "tebits = Narma10Generator(seed=Ste)(N, 1) # N*B bits per teststream\n",
    "testream = streamgen(tebits)\n",
    "tetarget = streamgen(TARGET(tebits)) \n",
    "\n",
    "# Simulation time tensor\n",
    "t = np.arange(trstream.shape[0], dtype=np.float32)*(1/Rs)"
   ]
  },
  {
   "cell_type": "code",
   "execution_count": 13,
   "id": "homeless-welding",
   "metadata": {},
   "outputs": [],
   "source": [
    "'''----- Mean Squared Error Function -----'''\n",
    "def mse_new(target,predicted,Bits):\n",
    "    mse = 0\n",
    "    for i in range(target.size):\n",
    "        mse = mse+(target[i] - predicted[i])**2\n",
    "    mse = mse/Bits\n",
    "    return mse"
   ]
  },
  {
   "cell_type": "code",
   "execution_count": 14,
   "id": "african-murray",
   "metadata": {
    "scrolled": true
   },
   "outputs": [
    {
     "data": {
      "image/png": "[encoded data removed]",
      "text/plain": [
       "<Figure size 432x288 with 1 Axes>"
      ]
     },
     "metadata": {
      "needs_background": "light"
     },
     "output_type": "display_data"
    }
   ],
   "source": [
    "#Frequency Domain Response\n",
    "wavelengths = 1e-9*np.linspace(1549.95,1551,10000)\n",
    "freq_env = pt.Environment(wl=wavelengths, freqdomain=True)\n",
    "wg_phase_=0\n",
    "tr_=0.5\n",
    "wg_delay_=1.02e-9\n",
    "wl0_=1.55e-6\n",
    "Bits=N\n",
    "mzi_l1 = 1e-3\n",
    "mzi_l2 = 13.12e-2  #ACTUAL FEEDBACK\n",
    "mzi_fb = 3.88e-3   #MZI ARM\n",
    "loss=20\n",
    "\n",
    "ring_res_freqtest = dc_reservoir_freq(wg_delay=wg_delay_, wg_phase=wg_phase_, \n",
    "                            ng=ng, tr=tr_, neff=neff, mzi_l1=mzi_l1,\n",
    "                            mzi_l2 = mzi_l2, mzi_fb=mzi_fb, loss=loss)\n",
    "\n",
    "\n",
    "with freq_env:\n",
    "    detected_freq = ring_res_freqtest(source=1)\n",
    "ring_res_freqtest.plot(detected_freq)\n",
    "#mpl.rcParams['font.family'] = 'Avenir'\n",
    "plt.rcParams['font.size'] = 12\n",
    "plt.rcParams['axes.linewidth'] = 1\n",
    "#plt.xlim(1549.5e3, 1550.7e-3)\n",
    "plt.ylim(0, 1.05)\n",
    "plt.show()\n",
    "    "
   ]
  },
  {
   "cell_type": "raw",
   "id": "sharing-uganda",
   "metadata": {},
   "source": [
    "#Export to be plotted in MATLAB\n",
    "\n",
    "detected_freq_np = detected_freq.numpy().reshape([10000,1])\n",
    "det_data = pd.DataFrame(detected_freq_np)\n",
    "det_data.to_csv('det_freq.csv')"
   ]
  },
  {
   "cell_type": "markdown",
   "id": "satisfied-bangkok",
   "metadata": {},
   "source": [
    "## Training for Narma10 Task"
   ]
  },
  {
   "cell_type": "code",
   "execution_count": 15,
   "id": "alleged-single",
   "metadata": {},
   "outputs": [
    {
     "name": "stderr",
     "output_type": "stream",
     "text": [
      "C:\\Users\\mohab\\Anaconda3\\envs\\photonics\\lib\\site-packages\\photontorch\\networks\\network.py:450: RuntimeWarning: Simulation timestep might be too large, resulting in zero delays for nonzero lengths. Try using a smaller timestep\n",
      "  warnings.warn(\n"
     ]
    },
    {
     "data": {
      "image/png": "[encoded data removed]",
      "text/plain": [
       "<Figure size 432x288 with 1 Axes>"
      ]
     },
     "metadata": {
      "needs_background": "light"
     },
     "output_type": "display_data"
    },
    {
     "name": "stdout",
     "output_type": "stream",
     "text": [
      "nmse: 0.1850219964147395\n",
      "weights:[[ 5.9259444e-01  3.4549479e+00 -2.6005375e+01  2.3456173e+01\n",
      "  -1.8068611e+01  8.2703232e+01  2.4055681e+02 -6.8581429e+01\n",
      "   9.9327803e-02 -8.6252670e+00 -5.0808201e+01  1.2741890e+02\n",
      "   2.3324101e+02 -1.7115115e+02 -2.0816451e+02 -1.6344896e+02\n",
      "  -4.8154800e+01  7.4169159e+01 -1.3457568e+02 -1.9031497e+02\n",
      "   5.3223572e+01 -4.9700603e+01 -5.1679877e+02  6.3950989e+02\n",
      "   1.8983556e+02 -3.3174931e+01  3.9314873e+01 -2.0753964e+02\n",
      "   7.7968849e+01  7.3994434e+02 -4.1418652e+01 -7.6439288e+02\n",
      "   3.3641849e+02 -2.9935672e+02 -9.3336182e+01]]\n",
      "intercept:[0.16559398]\n"
     ]
    }
   ],
   "source": [
    "'''----- Training -----'''\n",
    "torch.manual_seed(5)                      #pytorch seed\n",
    "wg_phase_=0\n",
    "tr_=0.5\n",
    "wg_delay_=1.02e-9\n",
    "wl0_=1.55e-6#1.55e-6\n",
    "#1.555e-6 #1.550161401e-6\n",
    "Bits=N\n",
    "mask_vector = torch.rand(Nodes)       #Input mask\n",
    "#print(mask_vector)\n",
    "mzi_l1 = 1e-3 \n",
    "mzi_l2 = 13.12e-2  #ACTUAL FEEDBACK\n",
    "mzi_fb = 3.88e-3   #MZI ARM\n",
    "loss = 20\n",
    "\n",
    "ring_res_test = dc_reservoir(wg_delay=wg_delay_, wg_phase=wg_phase_, \n",
    "                            ng=ng, tr=tr_, neff=neff, mask_vector=mask_vector, nodes=Nodes, mzi_l1=mzi_l1,\n",
    "                            mzi_l2 = mzi_l2, mzi_fb=mzi_fb, loss=loss)\n",
    "\n",
    "with pt.Environment(t=t, wl0=wl0_, num_wl=1):\n",
    "    detected = ring_res_test(source=trstream.rename(\"t\", \"b\"))[:,0,0,:] # lower dimensional sources should have named dimensions\n",
    "    ring_res_test.plot(detected)\n",
    "    plt.show()\n",
    "        \n",
    "#Data preparation -- Removing the first 200 bits\n",
    "detected_np = detected.numpy()\n",
    "detected_np = detected_np/np.max(detected_np)\n",
    "detected_np = detected_np.reshape(Bits,Nodes)\n",
    "target_now = narma10_jaeger(trbits).numpy().reshape(Bits,1)\n",
    "target_now = target_now/np.max(target_now)\n",
    "detected_np_cut = detected_np[200:,:]\n",
    "target_now_cut = target_now[200:]\n",
    "\n",
    "#normalized_detected = pd.DataFrame(detected_np)\n",
    "#normalized_detected.to_csv('detected_np_normalized.csv')\n",
    "        \n",
    "#Regression and Prediction\n",
    "regr = linear_model.LinearRegression()\n",
    "x = regr.fit(detected_np_cut,target_now_cut)\n",
    "y = regr.predict(detected_np_cut)\n",
    "        \n",
    "#Error Calculation\n",
    "nmse = 1 - regr.score(detected_np_cut,target_now_cut)\n",
    "mse = mse_new(target_now_cut,y,Bits)\n",
    "\n",
    "print(f'nmse: {nmse}')            \n",
    "print(f'weights:{regr.coef_}')\n",
    "print(f'intercept:{regr.intercept_}') \n",
    "\n",
    "#ASYMMETRIC Length ARM2: 0.0038834064407827773"
   ]
  },
  {
   "cell_type": "code",
   "execution_count": 16,
   "id": "veterinary-psychology",
   "metadata": {},
   "outputs": [
    {
     "name": "stderr",
     "output_type": "stream",
     "text": [
      "C:\\Users\\mohab\\Anaconda3\\envs\\photonics\\lib\\site-packages\\photontorch\\networks\\network.py:450: RuntimeWarning: Simulation timestep might be too large, resulting in zero delays for nonzero lengths. Try using a smaller timestep\n",
      "  warnings.warn(\n"
     ]
    },
    {
     "data": {
      "image/png": "[encoded data removed]",
      "text/plain": [
       "<Figure size 432x288 with 1 Axes>"
      ]
     },
     "metadata": {
      "needs_background": "light"
     },
     "output_type": "display_data"
    },
    {
     "name": "stdout",
     "output_type": "stream",
     "text": [
      "[65.23664]\n"
     ]
    },
    {
     "data": {
      "image/png": "[encoded data removed]",
      "text/plain": [
       "<Figure size 432x288 with 1 Axes>"
      ]
     },
     "metadata": {
      "needs_background": "light"
     },
     "output_type": "display_data"
    },
    {
     "name": "stdout",
     "output_type": "stream",
     "text": [
      " nmse: 4006.708222385515\n"
     ]
    }
   ],
   "source": [
    "'''----- Validation Test -----'''\n",
    "torch.manual_seed(5)                      #pytorch seed\n",
    "wl0_va = 1.550537053705371e-6 #1.550008e-6 #1.550537053705371\n",
    "with pt.Environment(t=t, wl0=wl0_va, num_wl=1):\n",
    "    detected_va = ring_res_test(source=vastream.rename(\"t\", \"b\"))[:,0,0,:] # lower dimensional sources should have named dimensions\n",
    "    ring_res_test.plot(detected_va)\n",
    "    plt.show()\n",
    "\n",
    "#Data preparation -- Removing the first 200 bits\n",
    "detected_va_np = detected_va.numpy()\n",
    "detected_va_np = detected_va_np/np.max(detected_va_np)\n",
    "detected_va_np = detected_va_np.reshape(Bits,Nodes)\n",
    "target_va_now = narma10_jaeger(vabits).numpy().reshape(Bits,1)\n",
    "target_va_now = target_va_now/np.max(target_va_now)\n",
    "detected_va_np_cut = detected_va_np[200:,:]\n",
    "target_va_now_cut = target_va_now[200:]\n",
    "\n",
    "\n",
    "#Prediction\n",
    "y_va = regr.predict(detected_va_np_cut)\n",
    "\n",
    "#Error Calculation\n",
    "nmse_va = 1 - regr.score(detected_va_np_cut,target_va_now_cut)\n",
    "mse_va = mse_new(target_va_now_cut,y_va,Bits)\n",
    "print(mse_va)\n",
    "#Plots\n",
    "plt.plot(y_va,label='Predicted')\n",
    "plt.plot(target_va_now_cut,label='Target')\n",
    "plt.legend(loc='upper right')\n",
    "plt.xlabel('Sample')\n",
    "plt.ylabel('Power')\n",
    "plt.show()\n",
    "\n",
    "print(f' nmse: {nmse_va}') "
   ]
  },
  {
   "cell_type": "raw",
   "id": "soviet-driver",
   "metadata": {},
   "source": [
    "'''----- Validation Test Sweep-----'''\n",
    "\n",
    "for i in range(21):\n",
    "    wl0_va = 1.5500015#1.549992e-6 + 1e-14*i\n",
    "    with pt.Environment(t=t, wl0=wl0_va, num_wl=1):\n",
    "        detected_va = ring_res_test(source=vastream.rename(\"t\", \"b\"))[:,0,0,:] # lower dimensional sources should have named dimensions\n",
    "        ring_res_test.plot(detected_va)\n",
    "        plt.show()\n",
    "\n",
    "    #Data preparation -- Removing the first 200 bits\n",
    "    detected_va_np = detected_va.numpy()\n",
    "    detected_va_np = detected_va_np.reshape(Bits,Nodes)\n",
    "    target_va_now = narma10_jaeger(vabits).numpy().reshape(Bits,1)\n",
    "    detected_va_np_cut = detected_va_np[200:,:]\n",
    "    target_va_now_cut = target_va_now[200:]\n",
    "\n",
    "    #Prediction\n",
    "    y_va = regr.predict(detected_va_np_cut)\n",
    "\n",
    "    #Error Calculation\n",
    "    nmse_va = 1 - regr.score(detected_va_np_cut,target_va_now_cut)\n",
    "    mse_va = mse_new(target_va_now_cut,y_va,Bits)\n",
    "\n",
    "    #Plots\n",
    "    plt.plot(y_va,label='Predicted')\n",
    "    plt.plot(target_va_now_cut,label='Target')\n",
    "    plt.legend(loc='upper right')\n",
    "    plt.xlabel('Sample')\n",
    "    plt.ylabel('Power')\n",
    "    plt.show()\n",
    "\n",
    "    print(f' wavelength:{wl0_va} nmse: {nmse_va}') "
   ]
  },
  {
   "cell_type": "code",
   "execution_count": 17,
   "id": "reflected-repair",
   "metadata": {},
   "outputs": [
    {
     "name": "stdout",
     "output_type": "stream",
     "text": [
      "1.0\n",
      "1.0\n",
      "1.0\n"
     ]
    }
   ],
   "source": [
    "#Export to be plotted in MATLAB\n",
    "\n",
    "#detected_freq_np = detected_freq.numpy().reshape([10000,1])\n",
    "#target_data = pd.DataFrame(target_va_now_cut)\n",
    "#target_data.to_csv('target.csv')\n",
    "#predicted_data = pd.DataFrame(y_va)\n",
    "#predicted_data.to_csv('predicted.csv')\n",
    "print(np.max(detected_np))\n",
    "print(np.max(detected_va_np))\n",
    "print(np.max(target_now))"
   ]
  },
  {
   "cell_type": "code",
   "execution_count": 18,
   "id": "confident-tunnel",
   "metadata": {},
   "outputs": [
    {
     "data": {
      "text/plain": [
       "50.0"
      ]
     },
     "execution_count": 18,
     "metadata": {},
     "output_type": "execute_result"
    }
   ],
   "source": [
    "5e1"
   ]
  },
  {
   "cell_type": "code",
   "execution_count": 19,
   "id": "sacred-guitar",
   "metadata": {},
   "outputs": [
    {
     "data": {
      "text/plain": [
       "tensor([0.8303, 0.1261, 0.9075, 0.8199, 0.9201])"
      ]
     },
     "execution_count": 19,
     "metadata": {},
     "output_type": "execute_result"
    }
   ],
   "source": [
    "torch.rand(5)"
   ]
  },
  {
   "cell_type": "code",
   "execution_count": null,
   "id": "detected-program",
   "metadata": {},
   "outputs": [],
   "source": []
  }
 ],
 "metadata": {
  "kernelspec": {
   "display_name": "Python 3",
   "language": "python",
   "name": "python3"
  },
  "language_info": {
   "codemirror_mode": {
    "name": "ipython",
    "version": 3
   },
   "file_extension": ".py",
   "mimetype": "text/x-python",
   "name": "python",
   "nbconvert_exporter": "python",
   "pygments_lexer": "ipython3",
   "version": "3.8.5"
  }
 },
 "nbformat": 4,
 "nbformat_minor": 5
}

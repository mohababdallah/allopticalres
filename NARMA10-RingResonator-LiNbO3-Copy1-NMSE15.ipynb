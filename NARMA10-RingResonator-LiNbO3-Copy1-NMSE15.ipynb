{
 "cells": [
  {
   "cell_type": "code",
   "execution_count": 1,
   "id": "classical-depression",
   "metadata": {},
   "outputs": [
    {
     "data": {
      "text/plain": [
       "'1.8.1'"
      ]
     },
     "execution_count": 1,
     "metadata": {},
     "output_type": "execute_result"
    }
   ],
   "source": [
    "#import sys\n",
    "#sys.path.append('C:\\\\Users\\\\mabdalla\\\\OneDrive - ec-lyon.fr\\\\Documents\\\\Python Scripts\\\\packages')\n",
    "import torch\n",
    "import numpy as np\n",
    "import photontorch as pt\n",
    "from sklearn import datasets, linear_model\n",
    "from sklearn.metrics import mean_squared_error\n",
    "from photontorch.environment import current_environment\n",
    "import matplotlib.pyplot as plt\n",
    "from scipy.signal import butter#, lfilter\n",
    "import pandas as pd \n",
    "from photontorch import BoundedParameter\n",
    "from ipywidgets import interact\n",
    "from tqdm.notebook import trange\n",
    "torch.__version__"
   ]
  },
  {
   "cell_type": "markdown",
   "id": "acceptable-wagner",
   "metadata": {},
   "source": [
    "### Components: PD, MZ Intensity Modulator, Electronic combiner, Optical Attenuator, Readout, CW Laser"
   ]
  },
  {
   "cell_type": "code",
   "execution_count": 2,
   "id": "complicated-salmon",
   "metadata": {},
   "outputs": [],
   "source": [
    "class attenuator(pt.Component):\n",
    "    \"\"\"\n",
    "    The optical attenuator is a 2 port component that attenuates the signal. It is bounded from 0 to 1.\n",
    "    The attenuation is trainable.\n",
    "    \n",
    "    Terms: \n",
    "    Optical  0 ----- 1  Optical\n",
    "            \n",
    "    \"\"\"      \n",
    "    num_ports = 2\n",
    "    \n",
    "    def __init__(\n",
    "    self,\n",
    "    trainable = True,\n",
    "    attenuation = 0.0,\n",
    "    name=None,\n",
    "    ): \n",
    "        #self.attenuation = float(attenuation)\n",
    "        super(attenuator, self).__init__(name=name)\n",
    "        if trainable:\n",
    "            self.attenuation = BoundedParameter(\n",
    "            data=torch.tensor(attenuation, device=self.device),\n",
    "            bounds=(0.0, 1.0),\n",
    "            requires_grad=True,\n",
    "            )\n",
    "        else:\n",
    "            self.attenuation = pt.Buffer(\n",
    "            data=torch.tensor(attenuation, device=self.device), requires_grad=False\n",
    "            )\n",
    "    \n",
    "    def set_S(self, S):\n",
    "        S[0,:,0,1] = S[0,:,1,0] = (1.0-self.attenuation) ** 0.5\n",
    "\n",
    "        return S"
   ]
  },
  {
   "cell_type": "code",
   "execution_count": 3,
   "id": "crucial-lender",
   "metadata": {},
   "outputs": [],
   "source": [
    "class cw_laser(pt.Component):\n",
    "    \"\"\"\n",
    "    A CW Laser used when multiple sources are desired in a network. Note: When linking, terminate the component's \n",
    "    0 port.\n",
    "\n",
    "    Terms: \n",
    "        0 ---- 1 \n",
    "    \n",
    "    \"\"\"    \n",
    "    num_ports = 2\n",
    "    \n",
    "    def __init__(\n",
    "        self,\n",
    "        Power = 1,  #Input the laser power here\n",
    "        delay=0,\n",
    "        name = None,  \n",
    "        ):\n",
    "        \n",
    "        super(cw_laser,self).__init__(name=name) \n",
    "        self.Power = float(Power)\n",
    "        self.delay = float(delay)\n",
    "            \n",
    "    def action(self, t, x_in, x_out):\n",
    "        #Input port actions\n",
    "        a_in, _ = x_in\n",
    "        x_out[0] = a_in  #Nothing happens to input node\n",
    "        \n",
    "        if t<self.delay:\n",
    "            x_out[1,0] = 0.0001  #Zero noise floor\n",
    "        else:\n",
    "            x_out[1,0] = self.Power ** 0.5\n",
    "        \n",
    "        x_out[1,1] = 0  #no phase information, this is a real source\n",
    "        \n",
    "        #print(x_out[1,0])  #for debugging\n",
    "        \n",
    "    def set_actions_at(self, actions_at):\n",
    "        actions_at[:] = 1\n",
    "        \n",
    "    def set_S(self, S):\n",
    "        S[0,:,0,0] = 1.0\n",
    "        S[0,:,1,1] = 1.0\n",
    "        return S"
   ]
  },
  {
   "cell_type": "code",
   "execution_count": 4,
   "id": "insured-apollo",
   "metadata": {},
   "outputs": [],
   "source": [
    "class mask(pt.Component):\n",
    "    \"\"\"\n",
    "    A masking signal that is either binary or from a standard distribution.\n",
    "\n",
    "    Terms: \n",
    "        0 ---- 1 \n",
    "    \n",
    "    \"\"\"       \n",
    "    num_ports = 2\n",
    "    \n",
    "    def __init__(\n",
    "        self,\n",
    "        m_length = 5,\n",
    "        mask_vector=torch.ones(5),\n",
    "        name=None,\n",
    "    ):\n",
    "        \n",
    "        super(mask,self).__init__(name=name)\n",
    "        self.m_length = int(m_length)\n",
    "        self.mask_vector = mask_vector\n",
    "        self.counter = -1\n",
    "        \n",
    "        #print(x)\n",
    "        \n",
    "        \n",
    "    def action(self,t,x_in,x_out):\n",
    "        a_in, _ = x_in\n",
    "        \n",
    "        x_out[0] = a_in  #Nothing happens to input node        \n",
    "        \n",
    "        self.counter = self.counter + 1\n",
    "            \n",
    "        x_out[1] = a_in * self.mask_vector[self.counter]\n",
    "        #print(x_out[1])\n",
    "        if self.counter == self.m_length-1:\n",
    "            self.counter = -1\n",
    "            \n",
    "    def set_actions_at(self, actions_at):\n",
    "        actions_at[:] = 1\n",
    "        \n",
    "    def set_S(self,S):\n",
    "        S[0,:,0,0] = 1.0\n",
    "        S[0,:,1,1] = 1.0\n",
    "        return S"
   ]
  },
  {
   "cell_type": "markdown",
   "id": "systematic-yorkshire",
   "metadata": {},
   "source": [
    "### Constructing the Reservoir Circuit"
   ]
  },
  {
   "cell_type": "code",
   "execution_count": 5,
   "id": "graduate-slovakia",
   "metadata": {},
   "outputs": [
    {
     "name": "stdout",
     "output_type": "stream",
     "text": [
      "Buffer containing:\n",
      "tensor([], dtype=torch.int64)\n"
     ]
    }
   ],
   "source": [
    "class dc_reservoir(pt.Network):\n",
    "    def __init__(self, las_pow = 1, attenuation=0.1, wg_delay=1e-9, wg_phase=0, ring_per=2*np.pi*6.75e-6, tr=0.9,\n",
    "                 nodes=25, mask_vector=torch.ones(10, dtype=torch.float64), \n",
    "                 weights = 0.1*torch.rand(25, dtype=torch.float64),\n",
    "                 neff = 2.2111, ng = 2.2637):\n",
    "        super(dc_reservoir, self).__init__()\n",
    "        self.src = pt.Source()\n",
    "        self.det = pt.Detector()\n",
    "        self.mask = mask(m_length=nodes, mask_vector = mask_vector)\n",
    "        self.att = attenuator(attenuation=attenuation, trainable = False) \n",
    "        self.laser = cw_laser(Power=las_pow, delay=0) \n",
    "        self.term = pt.Term()\n",
    "        self.dc1 = pt.DirectionalCoupler(1-tr)\n",
    "        self.wg1 = pt.Waveguide(ring_per, loss=0, neff=neff)\n",
    "        self.fb = pt.Waveguide(neff= neff, length=299792458*wg_delay/2.2637, phase=wg_phase, trainable = False)\n",
    "        self.link('src:0', '0:mask:1', '3:dc1:2', '0:det')\n",
    "        self.link('dc1:1', '0:fb:1', '0:att:1', '0:dc1:1')\n",
    "print(torch.where(dc_reservoir().free_ports_at)[0])"
   ]
  },
  {
   "cell_type": "markdown",
   "id": "owned-fellow",
   "metadata": {},
   "source": [
    "## Simulation Setup"
   ]
  },
  {
   "cell_type": "code",
   "execution_count": 6,
   "id": "active-ratio",
   "metadata": {},
   "outputs": [],
   "source": [
    "'''------- Generate uniform distribution between 0 and 0.5 -------'''\n",
    "\n",
    "class Narma10Generator(np.random.RandomState):\n",
    "    def __call__(self, N, B=1):\n",
    "        u = (0.5-0)*self.rand(N,B)\n",
    "        return u"
   ]
  },
  {
   "cell_type": "code",
   "execution_count": 7,
   "id": "covered-antenna",
   "metadata": {},
   "outputs": [],
   "source": [
    "'''----- NARMA10 TASK -----'''\n",
    "\n",
    "def narma10_jaeger(x):\n",
    "    \n",
    "    size = len(x)\n",
    "    y = torch.zeros(x.shape)\n",
    "    for n in range(10,size):\n",
    "        y[n] = 0.3*y[n-1] + 0.05*y[n-1]*(y[n-1]+y[n-2]+y[n-3] \\\n",
    "            +y[n-4]+y[n-5]+y[n-6]+y[n-7]+y[n-8]+y[n-9]+y[n-10]) \\\n",
    "            + 1.5*x[n-10]*x[n-1] + 0.1\n",
    "    return y\n",
    "\n",
    "TARGET = narma10_jaeger "
   ]
  },
  {
   "cell_type": "code",
   "execution_count": 8,
   "id": "chinese-malta",
   "metadata": {
    "scrolled": true
   },
   "outputs": [],
   "source": [
    "'''----- SIMULATION PARAMETERS -----'''\n",
    "\n",
    "# ----- General Parameters -----\n",
    "c = 299792458.0                           #[m/s] speed of light\n",
    "Rb = 1e9                                  #[1/s] bitrate\n",
    "Rs = 25*Rb                                #[1/s] samplerate\n",
    "fc = 2e9                                  #[1/s] cutoff frequency for bit generation\n",
    "wl0 = 1550e-9                             #[m] center wavelength\n",
    "neff = 2.2111     #1.4440                 #[1] effective index of fiber spool\n",
    "ng = 2.2637       #1.4626                 #[1] group index of fiber spool\n",
    "neff_mzm = 2.2111                         #[1] Effective index of lithium niobate (modulator)\n",
    "ng_mzm = 2.2637                           #[1] Group index of lithium niobate (modulator)\n",
    "N = 3200                                  #[1] number of bits per bit stream\n",
    "B = 1                                     #[1] Number of bit streams in training batch\n",
    "sim_time = N/Rb                           #[s] Simulation time \n",
    "wl = 1.55e-6                              #[m] Center Wavelength\n",
    "Str, Sva, Ste = (10, 2, 3)                #[1] train seed, validation seed, test seed\n",
    "Lr = (1/Rb) * (c/ng)                      #[m] reference length (distance a bit travels during one bit period)\n",
    "device = torch.device(\"cpu\")              #default device used\n",
    "torch.set_default_dtype(torch.float32)    #default dtype used\n",
    "torch.manual_seed(3)                      #pytorch seed\n",
    "np.random.seed(42)                        #numpy seed\n",
    "\n",
    "\n",
    "# ----- Reservoir Parameters -----\n",
    "las_pow = 1                               #[1] Laser Power\n",
    "wg_delay = 1.0e-9 #equivalent to k=1      #[s] Delay tao(Along with group index below)\n",
    "fb_att = 0.1                              #[1] Feedback attenuation (strength)\n",
    "fb_phase=0                                #[1] Feedback phase\n",
    "Nodes = np.int(Rs/Rb)                     #[1] Number of virtual nodes in the reservoir\n",
    "mask_vector = 0.1*torch.rand(Nodes)       #Input mask"
   ]
  },
  {
   "cell_type": "code",
   "execution_count": 9,
   "id": "tight-tunnel",
   "metadata": {},
   "outputs": [],
   "source": [
    "'''----- BITSTREAM GENERATION -----'''\n",
    "streamgen = pt.BitStreamGenerator(bitrate=Rb, samplerate=Rs, cutoff_frequency=fc, device=device)"
   ]
  },
  {
   "cell_type": "code",
   "execution_count": 10,
   "id": "miniature-substitute",
   "metadata": {},
   "outputs": [],
   "source": [
    "'''----- BITSTREAMS -----'''\n",
    "\n",
    "# train streams\n",
    "trbits = Narma10Generator(seed=Str)(N, 1) # N bits per train stream, B train streams per batch.\n",
    "trstream = streamgen(trbits)\n",
    "trtarget = streamgen(TARGET(trbits))\n",
    "trtarget_np = trtarget.numpy()\n",
    "\n",
    "# validation streams\n",
    "vabits = Narma10Generator(seed=Sva)(N, 1) # N bits per validation stream, 1 validation stream per batch.\n",
    "vastream = streamgen(vabits)\n",
    "vatarget = streamgen(TARGET(vabits))\n",
    "\n",
    "# test streams\n",
    "tebits = Narma10Generator(seed=Ste)(N, 1) # N*B bits per teststream\n",
    "testream = streamgen(tebits)\n",
    "tetarget = streamgen(TARGET(tebits)) \n",
    "\n",
    "# Simulation time tensor\n",
    "t = np.arange(trstream.shape[0], dtype=np.float32)*(1/Rs)"
   ]
  },
  {
   "cell_type": "code",
   "execution_count": 11,
   "id": "homeless-welding",
   "metadata": {},
   "outputs": [],
   "source": [
    "'''----- Mean Squared Error Function -----'''\n",
    "def mse_new(target,predicted,Bits):\n",
    "    mse = 0\n",
    "    for i in range(target.size):\n",
    "        mse = mse+(target[i] - predicted[i])**2\n",
    "    mse = mse/Bits\n",
    "    return mse"
   ]
  },
  {
   "cell_type": "markdown",
   "id": "satisfied-bangkok",
   "metadata": {},
   "source": [
    "## Training for Narma10 Task"
   ]
  },
  {
   "cell_type": "markdown",
   "id": "pursuant-ultimate",
   "metadata": {},
   "source": [
    "## Testing at the training wavelength for Validation set"
   ]
  },
  {
   "cell_type": "code",
   "execution_count": 13,
   "id": "alleged-single",
   "metadata": {},
   "outputs": [
    {
     "data": {
      "image/png": "[encoded data removed]",
      "text/plain": [
       "<Figure size 432x288 with 1 Axes>"
      ]
     },
     "metadata": {
      "needs_background": "light"
     },
     "output_type": "display_data"
    },
    {
     "name": "stdout",
     "output_type": "stream",
     "text": [
      " phase: 0, attenuation: 0, transmission = 0.5, nmse: 0.15109367303571142\n"
     ]
    },
    {
     "data": {
      "image/png": "[encoded data removed]",
      "text/plain": [
       "<Figure size 432x288 with 1 Axes>"
      ]
     },
     "metadata": {
      "needs_background": "light"
     },
     "output_type": "display_data"
    },
    {
     "data": {
      "image/png": "[encoded data removed]",
      "text/plain": [
       "<Figure size 432x288 with 1 Axes>"
      ]
     },
     "metadata": {
      "needs_background": "light"
     },
     "output_type": "display_data"
    },
    {
     "name": "stdout",
     "output_type": "stream",
     "text": [
      " phase: 0, attenuation: 0, transmission = 0.5, nmse: 0.1668780432916116\n"
     ]
    }
   ],
   "source": [
    "'''----- Training -----'''\n",
    "wg_phase_=0\n",
    "tr_=0.5\n",
    "fb_att_=0\n",
    "wg_delay_=1.0e-9\n",
    "Bits=N\n",
    "\n",
    "ring_res_test = dc_reservoir(las_pow=las_pow, attenuation=fb_att_, wg_delay=wg_delay_, wg_phase=wg_phase_, \n",
    "                            ng=ng, tr=tr_, neff=neff, mask_vector=mask_vector, nodes=Nodes)\n",
    "\n",
    "with pt.Environment(t=t):\n",
    "    detected = ring_res_test(source=trstream.rename(\"t\", \"b\"))[:,0,0,:] # lower dimensional sources should have named dimensions\n",
    "    ring_res_test.plot(detected)\n",
    "    plt.show()\n",
    "    \n",
    "#Data preparation -- Removing the first 200 bits\n",
    "detected_np = detected.numpy()\n",
    "detected_np = detected_np.reshape(Bits,Nodes)\n",
    "target_now = narma10_jaeger(trbits).numpy().reshape(Bits,1)\n",
    "detected_np_cut = detected_np[200:,:]\n",
    "target_now_cut = target_now[200:]\n",
    "        \n",
    "#Regression and Prediction\n",
    "regr = linear_model.LinearRegression()\n",
    "x = regr.fit(detected_np_cut,target_now_cut)\n",
    "y = regr.predict(detected_np_cut)\n",
    "        \n",
    "#Error Calculation\n",
    "nmse = 1 - regr.score(detected_np_cut,target_now_cut)\n",
    "mse = mse_new(target_now_cut,y,Bits)\n",
    "\n",
    "print(f' phase: {wg_phase_}, attenuation: {fb_att_}, transmission = {tr_}, nmse: {nmse}')            \n",
    "\n",
    "\n",
    "'''----- Validation Test -----'''\n",
    "with pt.Environment(t=t):\n",
    "    detected_va = ring_res_test(source=vastream.rename(\"t\", \"b\"))[:,0,0,:] # lower dimensional sources should have named dimensions\n",
    "    ring_res_test.plot(detected_va)\n",
    "    plt.show()\n",
    "\n",
    "#Data preparation -- Removing the first 200 bits\n",
    "detected_va_np = detected_va.numpy()\n",
    "detected_va_np = detected_va_np.reshape(Bits,Nodes)\n",
    "target_va_now = narma10_jaeger(vabits).numpy().reshape(Bits,1)\n",
    "detected_va_np_cut = detected_va_np[200:,:]\n",
    "target_va_now_cut = target_va_now[200:]\n",
    "\n",
    "#Prediction\n",
    "y_va = regr.predict(detected_va_np_cut)\n",
    "\n",
    "#Error Calculation\n",
    "nmse_va = 1 - regr.score(detected_va_np_cut,target_va_now_cut)\n",
    "mse_va = mse_new(target_va_now_cut,y_va,Bits)\n",
    "\n",
    "#Plots\n",
    "plt.plot(y_va,label='Predicted')\n",
    "plt.plot(target_va_now_cut,label='Target')\n",
    "plt.legend(loc='upper right')\n",
    "plt.xlabel('Sample')\n",
    "plt.ylabel('Power')\n",
    "plt.show()\n",
    "\n",
    "print(f' phase: {wg_phase_}, attenuation: {fb_att_}, transmission = {tr_}, nmse: {nmse_va}')            "
   ]
  },
  {
   "cell_type": "raw",
   "id": "parental-stuff",
   "metadata": {},
   "source": [
    "'''----- For finding optimal system dynamics -----'''\n",
    "Bits = N\n",
    "#store = np.ndarray(shape = (10,5,10))\n",
    "wg_phase_=0    \n",
    "for j in range(5):\n",
    "    fb_att_ = 0.2*j\n",
    "        \n",
    "    for k in range(10):\n",
    "        tr_=0.01*k +0.01\n",
    "\n",
    "        ring_res = dc_reservoir(las_pow=las_pow, attenuation=fb_att_, wg_delay=wg_delay, wg_phase=wg_phase_, \n",
    "                                      ng=ng, tr=tr_, neff=neff, mask_vector=mask_vector, nodes=Nodes)\n",
    "\n",
    "        with pt.Environment(t=t, wl0=1.5e-6, num_wl=1):\n",
    "            detected = ring_res(source=trstream.rename(\"t\", \"b\"))[:,0,0,:] # lower dimensional sources should have named dimensions\n",
    "            #ring_res.plot(detected)\n",
    "            #plt.show()\n",
    "    \n",
    "        #Data preparation -- Removing the first 200 bits\n",
    "        detected_np = detected.numpy()\n",
    "        detected_np = detected_np.reshape(Bits,Nodes)\n",
    "        target_now = narma10_jaeger(trbits).numpy().reshape(Bits,1)\n",
    "        detected_np_cut = detected_np[200:,:]\n",
    "        target_now_cut = target_now[200:]\n",
    "        \n",
    "        #Regression and Prediction\n",
    "        regr = linear_model.LinearRegression()\n",
    "        x = regr.fit(detected_np_cut,target_now_cut)\n",
    "        y = regr.predict(detected_np_cut)\n",
    "        \n",
    "        #Error Calculation\n",
    "        nmse = 1 - regr.score(detected_np_cut,target_now_cut)\n",
    "        mse = mse_new(target_now_cut,y,Bits)\n",
    "            \n",
    "        #store[i,j,k] = \n",
    "        print(f'attenuation: {fb_att_}, transmission = {tr_}, nmse: {nmse}')            "
   ]
  }
 ],
 "metadata": {
  "kernelspec": {
   "display_name": "Python 3",
   "language": "python",
   "name": "python3"
  },
  "language_info": {
   "codemirror_mode": {
    "name": "ipython",
    "version": 3
   },
   "file_extension": ".py",
   "mimetype": "text/x-python",
   "name": "python",
   "nbconvert_exporter": "python",
   "pygments_lexer": "ipython3",
   "version": "3.8.5"
  }
 },
 "nbformat": 4,
 "nbformat_minor": 5
}

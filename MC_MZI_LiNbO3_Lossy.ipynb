{
 "cells": [
  {
   "cell_type": "code",
   "execution_count": 1,
   "id": "classical-depression",
   "metadata": {},
   "outputs": [
    {
     "data": {
      "text/plain": [
       "'1.6.0'"
      ]
     },
     "execution_count": 1,
     "metadata": {},
     "output_type": "execute_result"
    }
   ],
   "source": [
    "#import sys\n",
    "#sys.path.append('C:\\\\Users\\\\mabdalla\\\\OneDrive - ec-lyon.fr\\\\Documents\\\\Python Scripts\\\\packages')\n",
    "import torch\n",
    "import numpy as np\n",
    "import photontorch as pt\n",
    "from sklearn import datasets, linear_model\n",
    "from sklearn.metrics import mean_squared_error\n",
    "from photontorch.environment import current_environment\n",
    "import matplotlib as mpl\n",
    "import matplotlib.pyplot as plt\n",
    "from scipy.signal import butter#, lfilter\n",
    "import pandas as pd \n",
    "from photontorch import BoundedParameter\n",
    "from ipywidgets import interact\n",
    "from tqdm.notebook import trange\n",
    "torch.__version__"
   ]
  },
  {
   "cell_type": "markdown",
   "id": "acceptable-wagner",
   "metadata": {},
   "source": [
    "### Components: PD, MZ Intensity Modulator, Electronic combiner, Optical Attenuator, Readout, CW Laser"
   ]
  },
  {
   "cell_type": "code",
   "execution_count": 2,
   "id": "complicated-salmon",
   "metadata": {},
   "outputs": [],
   "source": [
    "class attenuator(pt.Component):\n",
    "    \"\"\"\n",
    "    The optical attenuator is a 2 port component that attenuates the signal. It is bounded from 0 to 1.\n",
    "    The attenuation is trainable.\n",
    "    \n",
    "    Terms: \n",
    "    Optical  0 ----- 1  Optical\n",
    "            \n",
    "    \"\"\"      \n",
    "    num_ports = 2\n",
    "    \n",
    "    def __init__(\n",
    "    self,\n",
    "    trainable = True,\n",
    "    attenuation = 0.0,\n",
    "    name=None,\n",
    "    ): \n",
    "        #self.attenuation = float(attenuation)\n",
    "        super(attenuator, self).__init__(name=name)\n",
    "        if trainable:\n",
    "            self.attenuation = BoundedParameter(\n",
    "            data=torch.tensor(attenuation, device=self.device),\n",
    "            bounds=(0.0, 1.0),\n",
    "            requires_grad=True,\n",
    "            )\n",
    "        else:\n",
    "            self.attenuation = pt.Buffer(\n",
    "            data=torch.tensor(attenuation, device=self.device), requires_grad=False\n",
    "            )\n",
    "    \n",
    "    def set_S(self, S):\n",
    "        S[0,:,0,1] = S[0,:,1,0] = (1.0-self.attenuation) ** 0.5\n",
    "\n",
    "        return S"
   ]
  },
  {
   "cell_type": "code",
   "execution_count": 3,
   "id": "crucial-lender",
   "metadata": {},
   "outputs": [],
   "source": [
    "class cw_laser(pt.Component):\n",
    "    \"\"\"\n",
    "    A CW Laser used when multiple sources are desired in a network. Note: When linking, terminate the component's \n",
    "    0 port.\n",
    "\n",
    "    Terms: \n",
    "        0 ---- 1 \n",
    "    \n",
    "    \"\"\"    \n",
    "    num_ports = 2\n",
    "    \n",
    "    def __init__(\n",
    "        self,\n",
    "        Power = 1,  #Input the laser power here\n",
    "        delay=0,\n",
    "        name = None,  \n",
    "        ):\n",
    "        \n",
    "        super(cw_laser,self).__init__(name=name) \n",
    "        self.Power = float(Power)\n",
    "        self.delay = float(delay)\n",
    "            \n",
    "    def action(self, t, x_in, x_out):\n",
    "        #Input port actions\n",
    "        a_in, _ = x_in\n",
    "        x_out[0] = a_in  #Nothing happens to input node\n",
    "        \n",
    "        if t<self.delay:\n",
    "            x_out[1,0] = 0.0001  #Zero noise floor\n",
    "        else:\n",
    "            x_out[1,0] = self.Power ** 0.5\n",
    "        \n",
    "        x_out[1,1] = 0  #no phase information, this is a real source\n",
    "        \n",
    "        #print(x_out[1,0])  #for debugging\n",
    "        \n",
    "    def set_actions_at(self, actions_at):\n",
    "        actions_at[:] = 1\n",
    "        \n",
    "    def set_S(self, S):\n",
    "        S[0,:,0,0] = 1.0\n",
    "        S[0,:,1,1] = 1.0\n",
    "        return S"
   ]
  },
  {
   "cell_type": "code",
   "execution_count": 4,
   "id": "insured-apollo",
   "metadata": {},
   "outputs": [],
   "source": [
    "class mask(pt.Component):\n",
    "    \"\"\"\n",
    "    A masking signal that is either binary or from a standard distribution.\n",
    "\n",
    "    Terms: \n",
    "        0 ---- 1 \n",
    "    \n",
    "    \"\"\"       \n",
    "    num_ports = 2\n",
    "    \n",
    "    def __init__(\n",
    "        self,\n",
    "        m_length = 5,\n",
    "        mask_vector=torch.ones(5),\n",
    "        name=None,\n",
    "    ):\n",
    "        \n",
    "        super(mask,self).__init__(name=name)\n",
    "        self.m_length = int(m_length)\n",
    "        self.mask_vector = mask_vector\n",
    "        self.counter = -1\n",
    "        \n",
    "        #print(x)\n",
    "        \n",
    "        \n",
    "    def action(self,t,x_in,x_out):\n",
    "        a_in, _ = x_in\n",
    "        \n",
    "        x_out[0] = a_in  #Nothing happens to input node        \n",
    "        \n",
    "        self.counter = self.counter + 1\n",
    "            \n",
    "        x_out[1] = a_in * self.mask_vector[self.counter]\n",
    "        #print(x_out[1])\n",
    "        if self.counter == self.m_length-1:\n",
    "            self.counter = -1\n",
    "            \n",
    "    def set_actions_at(self, actions_at):\n",
    "        actions_at[:] = 1\n",
    "        \n",
    "    def set_S(self,S):\n",
    "        S[0,:,0,0] = 1.0\n",
    "        S[0,:,1,1] = 1.0\n",
    "        return S"
   ]
  },
  {
   "cell_type": "markdown",
   "id": "systematic-yorkshire",
   "metadata": {},
   "source": [
    "### Constructing the Reservoir Circuit"
   ]
  },
  {
   "cell_type": "code",
   "execution_count": 5,
   "id": "graduate-slovakia",
   "metadata": {},
   "outputs": [
    {
     "name": "stdout",
     "output_type": "stream",
     "text": [
      "tensor([], dtype=torch.int64)\n"
     ]
    }
   ],
   "source": [
    "class dc_reservoir(pt.Network):\n",
    "    def __init__(self, attenuation=0.1, wg_delay=1e-9, wg_phase=0, ring_per=2*np.pi*6.75e-6, tr=0.9, loss=20,\n",
    "                 nodes=25, mask_vector=torch.ones(10, dtype=torch.float64), \n",
    "                 weights = 0.1*torch.rand(25, dtype=torch.float64),\n",
    "                 neff = 2.2111, ng = 2.2637, mzi_l1=1e-3, mzi_l2=1e-3):\n",
    "        super(dc_reservoir, self).__init__()\n",
    "        \n",
    "        self.src = pt.Source()\n",
    "        length=299792458*wg_delay/ng\n",
    "        self.det = pt.Detector()\n",
    "        self.mask = mask(m_length=nodes, mask_vector = mask_vector)\n",
    "        self.att = attenuator(attenuation=attenuation, trainable = False) \n",
    "        self.term = pt.Term()\n",
    "        self.dc1 = self.dc2 = pt.DirectionalCoupler(1-tr)\n",
    "        self.wg1 = pt.Waveguide(length=mzi_l1, ng = ng, neff = neff,loss=loss, phase=wg_phase)\n",
    "        self.wg2 = pt.Waveguide(length=length, ng = ng, neff = neff,loss=loss)\n",
    "        self.fb = pt.Waveguide(neff = neff, ng=ng, length=length-mzi_l2, loss=loss)\n",
    "        self.link('src:0', '0:mask:1', '0:dc1:1', '0:wg1:1', '0:dc2:1', '0:det')\n",
    "        self.link('dc2:2', '0:fb:1', '0:att:1', '3:dc1')\n",
    "        self.link('dc2:3', '0:wg2:1', '2:dc1')\n",
    "        #print(self.graph(draw=True))\n",
    "        #print(length-mzi_l2)\n",
    "\n",
    "print(torch.where(dc_reservoir().free_ports_at)[0])\n"
   ]
  },
  {
   "cell_type": "code",
   "execution_count": 6,
   "id": "owned-heath",
   "metadata": {},
   "outputs": [],
   "source": [
    "class dc_reservoir_freq(pt.Network):\n",
    "    def __init__(self, wg_delay=1e-9, wg_phase=0, tr=0.9,\n",
    "                 neff = 2.2111, ng = 2.2637, mzi_l1=1e-3, mzi_l2=1e-3, loss=20):\n",
    "        super(dc_reservoir_freq, self).__init__()\n",
    "        length=299792458*wg_delay/ng\n",
    "\n",
    "        self.src = pt.Source()\n",
    "        self.det = pt.Detector()\n",
    "        self.term = pt.Term()\n",
    "        self.dc1 = self.dc2 = pt.DirectionalCoupler(1-tr)\n",
    "        self.wg1 = pt.Waveguide(length=mzi_l1, ng = ng, neff=neff, loss=loss, phase=wg_phase)\n",
    "        self.wg2 = pt.Waveguide(length=length, ng = ng, neff=neff, loss=loss)\n",
    "        self.fb = pt.Waveguide(ng=ng, neff=neff, length=length-mzi_l2, loss=loss)\n",
    "        self.link('src:0', '0:dc1:1', '0:wg1:1', '0:dc2:1', '0:det')\n",
    "        self.link('dc2:2', '0:fb:1', '3:dc1')\n",
    "        self.link('dc2:3', '0:wg2:1', '2:dc1')\n",
    "        #print(self.graph(draw=True))"
   ]
  },
  {
   "cell_type": "markdown",
   "id": "owned-fellow",
   "metadata": {},
   "source": [
    "## Simulation Setup"
   ]
  },
  {
   "cell_type": "code",
   "execution_count": 7,
   "id": "active-ratio",
   "metadata": {},
   "outputs": [],
   "source": [
    "'''------- Generate uniform distribution between 0 and 0.5 -------'''\n",
    "\n",
    "class Narma10Generator(np.random.RandomState):\n",
    "    def __call__(self, N, B=1):\n",
    "        u = (0.5-0)*self.rand(N,B)\n",
    "        return u"
   ]
  },
  {
   "cell_type": "code",
   "execution_count": 8,
   "id": "covered-antenna",
   "metadata": {},
   "outputs": [],
   "source": [
    "'''----- NARMA10 TASK -----'''\n",
    "\n",
    "def narma10_jaeger(x):\n",
    "    \n",
    "    size = len(x)\n",
    "    y = torch.zeros(x.shape)\n",
    "    for n in range(10,size):\n",
    "        y[n] = 0.3*y[n-1] + 0.05*y[n-1]*(y[n-1]+y[n-2]+y[n-3] \\\n",
    "            +y[n-4]+y[n-5]+y[n-6]+y[n-7]+y[n-8]+y[n-9]+y[n-10]) \\\n",
    "            + 1.5*x[n-10]*x[n-1] + 0.1\n",
    "    return y\n",
    "\n"
   ]
  },
  {
   "cell_type": "code",
   "execution_count": 9,
   "id": "distributed-iraqi",
   "metadata": {},
   "outputs": [],
   "source": [
    "'''----- MEMORY CAPACITY TASK -----'''\n",
    "\n",
    "class mem_cap_Generator(np.random.RandomState):\n",
    "    def __call__(self, N, B=1):\n",
    "        z = self.rand(N,B)\n",
    "        return z\n",
    "    \n",
    "def COPY(bits):\n",
    "    return bits.copy()\n",
    "\n",
    "def Delay(x, bits):\n",
    "    arr=np.concatenate([trbits,np.zeros_like(trbits[:x])])\n",
    "    if x == 0:\n",
    "        arr=arr\n",
    "    else:\n",
    "        arr=np.delete(arr, np.s_[:x])\n",
    "    return arr\n",
    "\n",
    "TARGET = COPY"
   ]
  },
  {
   "cell_type": "code",
   "execution_count": 10,
   "id": "chinese-malta",
   "metadata": {
    "scrolled": true
   },
   "outputs": [],
   "source": [
    "'''----- SIMULATION PARAMETERS -----'''\n",
    "\n",
    "# ----- General Parameters -----\n",
    "c = 299792458.0                           #[m/s] speed of light\n",
    "Rb = 1e9                                  #[1/s] bitrate\n",
    "Rs = 50*Rb                                #[1/s] samplerate\n",
    "fc = 2e9                                  #[1/s] cutoff frequency for bit generation\n",
    "wl0 = 1550e-9                             #[m] center wavelength\n",
    "neff = 2.2111     #1.4440                 #[1] effective index of fiber spool\n",
    "ng = 2.2637       #1.4626                 #[1] group index of fiber spool\n",
    "neff_mzm = 2.2111                         #[1] Effective index of lithium niobate (modulator)\n",
    "ng_mzm = 2.2637                           #[1] Group index of lithium niobate (modulator)\n",
    "N = 500                                  #[1] number of bits per bit stream\n",
    "B = 1                                     #[1] Number of bit streams in training batch\n",
    "sim_time = N/Rb                           #[s] Simulation time \n",
    "wl = 1.55e-6                              #[m] Center Wavelength\n",
    "Str, Sva, Ste = (10, 2, 3)                #[1] train seed, validation seed, test seed\n",
    "Lr = (1/Rb) * (c/ng)                      #[m] reference length (distance a bit travels during one bit period)\n",
    "device = torch.device(\"cpu\")              #default device used\n",
    "torch.set_default_dtype(torch.float32)    #default dtype used\n",
    "torch.manual_seed(3)                      #pytorch seed\n",
    "np.random.seed(42)                        #numpy seed\n",
    "\n",
    "\n",
    "# ----- Reservoir Parameters -----\n",
    "las_pow = 1                               #[1] Laser Power\n",
    "wg_delay = 1.0e-9 #equivalent to k=1      #[s] Delay tao(Along with group index below)\n",
    "fb_att = 0.1                              #[1] Feedback attenuation (strength)\n",
    "fb_phase=0                                #[1] Feedback phase\n",
    "Nodes = np.int(Rs/Rb)                     #[1] Number of virtual nodes in the reservoir\n",
    "mask_vector = 0.2*torch.rand(Nodes)       #Input mask"
   ]
  },
  {
   "cell_type": "code",
   "execution_count": 11,
   "id": "tight-tunnel",
   "metadata": {},
   "outputs": [],
   "source": [
    "'''----- BITSTREAM GENERATION -----'''\n",
    "streamgen = pt.BitStreamGenerator(bitrate=Rb, samplerate=Rs, cutoff_frequency=fc, device=device)"
   ]
  },
  {
   "cell_type": "code",
   "execution_count": 12,
   "id": "miniature-substitute",
   "metadata": {},
   "outputs": [],
   "source": [
    "'''----- BITSTREAMS -----'''\n",
    "delay=20\n",
    "# train streams\n",
    "trbits = mem_cap_Generator(seed=Str)(N, 1) # N bits per train stream, B train streams per batch.\n",
    "trbits_delay = Delay(x=delay,bits=trbits).reshape(N,1)\n",
    "trstream = streamgen(trbits_delay)\n",
    "trtarget = streamgen(trbits)\n",
    "trtarget_np = trtarget.numpy()\n",
    "#print(np.size(trbits_delay))\n",
    "#print(np.shape(trbits_delay))\n",
    "#print(trbits_delay)\n",
    "# validation streams\n",
    "#vabits = Narma10Generator(seed=Sva)(N, 1) # N bits per validation stream, 1 validation stream per batch.\n",
    "#vastream = streamgen(vabits)\n",
    "#vatarget = streamgen(TARGET(vabits))\n",
    "\n",
    "# Simulation time tensor\n",
    "t = np.arange(trstream.shape[0], dtype=np.float32)*(1/Rs)"
   ]
  },
  {
   "cell_type": "code",
   "execution_count": 13,
   "id": "homeless-welding",
   "metadata": {},
   "outputs": [],
   "source": [
    "'''----- Mean Squared Error Function -----'''\n",
    "def mse_new(target,predicted,Bits):\n",
    "    mse = 0\n",
    "    for i in range(target.size):\n",
    "        mse = mse+(target[i] - predicted[i])**2\n",
    "    mse = mse/Bits\n",
    "    return mse"
   ]
  },
  {
   "cell_type": "markdown",
   "id": "surgical-license",
   "metadata": {},
   "source": [
    "## Frequency Domain Response\n"
   ]
  },
  {
   "cell_type": "code",
   "execution_count": 14,
   "id": "african-murray",
   "metadata": {
    "scrolled": true
   },
   "outputs": [
    {
     "data": {
      "image/png": "[encoded data removed]",
      "text/plain": [
       "<Figure size 432x288 with 1 Axes>"
      ]
     },
     "metadata": {
      "needs_background": "light"
     },
     "output_type": "display_data"
    }
   ],
   "source": [
    "wavelengths = 1e-9*np.linspace(1549.95,1550.7,10000)\n",
    "freq_env = pt.Environment(wl=wavelengths, freqdomain=True)\n",
    "wg_phase_=0\n",
    "tr_=0.5\n",
    "wg_delay_=1.02e-9\n",
    "wl0_=1.55e-6\n",
    "Bits=N\n",
    "mzi_l1 = 1e-3\n",
    "mzi_l2 = 13.12e-2\n",
    "loss=20\n",
    "\n",
    "ring_res_freqtest = dc_reservoir_freq(wg_delay=wg_delay_, wg_phase=wg_phase_, \n",
    "                            ng=ng, tr=tr_, neff=neff, mzi_l1=mzi_l1,\n",
    "                            mzi_l2 = mzi_l2, loss=loss)\n",
    "\n",
    "\n",
    "with freq_env:\n",
    "    detected_freq = ring_res_freqtest(source=1)\n",
    "    \n",
    "ring_res_freqtest.plot(detected_freq)\n",
    "mpl.rcParams['font.family'] = 'Avenir'\n",
    "plt.rcParams['font.size'] = 12\n",
    "plt.rcParams['axes.linewidth'] = 1\n",
    "#plt.xlim(1549.5e3, 1550.7e-3)\n",
    "plt.ylim(0, 1.05)\n",
    "plt.show()\n",
    "    "
   ]
  },
  {
   "cell_type": "code",
   "execution_count": 15,
   "id": "personal-abortion",
   "metadata": {},
   "outputs": [],
   "source": [
    "#Export to be plotted in MATLAB\n",
    "\n",
    "detected_freq_np = detected_freq.numpy().reshape([10000,1])\n",
    "det_data = pd.DataFrame(detected_freq_np)\n",
    "det_data.to_csv('det_freq.csv')"
   ]
  },
  {
   "cell_type": "markdown",
   "id": "satisfied-bangkok",
   "metadata": {},
   "source": [
    "## Training for Memory Capacity"
   ]
  },
  {
   "cell_type": "raw",
   "id": "expensive-gauge",
   "metadata": {},
   "source": [
    "'''----- Training -----'''\n",
    "torch.manual_seed(5)                      #pytorch seed\n",
    "wg_phase_=0.1\n",
    "tr_=0.5\n",
    "fb_att_=0\n",
    "wg_delay_=1.02e-9\n",
    "wl0_=1.5501614e-6\n",
    "wl0_va = 1.550161401e-6\n",
    "Bits=N\n",
    "mask_vector = 0.5*torch.rand(Nodes)       #Input mask\n",
    "mzi_l1 = 2e-3\n",
    "mzi_l2 = 13.12e-2\n",
    "loss=20\n",
    "total_mc=0  #initialize sum of memory capacity\n",
    "\n",
    "ring_res_test = dc_reservoir(attenuation=fb_att_, wg_delay=wg_delay_, wg_phase=wg_phase_, \n",
    "                            ng=ng, tr=tr_, neff=neff, mask_vector=mask_vector, nodes=Nodes, mzi_l1=mzi_l1,\n",
    "                            mzi_l2 = mzi_l2, loss=loss)\n",
    "\n",
    "\n",
    "for i in range(1,Nodes+1):\n",
    "    trbits = mem_cap_Generator(seed=Str)(N, 1) # N bits per train stream, B train streams per batch.\n",
    "    trbits_delay = Delay(x=i,bits=trbits).reshape(N,1)\n",
    "    trstream = streamgen(trbits_delay)\n",
    "    trtarget = streamgen(trbits)\n",
    "    trtarget_np = trtarget.numpy()\n",
    "    t = np.arange(trstream.shape[0], dtype=np.float32)*(1/Rs)\n",
    "    \n",
    "    with pt.Environment(t=t, wl0=wl0_, num_wl=1):\n",
    "        detected = ring_res_test(source=trstream.rename(\"t\", \"b\"))[:,0,0,:] # lower dimensional sources should have named dimensions\n",
    "        \n",
    "    #Data preparation -- Removing the first 200 bits\n",
    "    detected_np = detected.numpy()\n",
    "    detected_np = detected_np.reshape(Bits,Nodes)\n",
    "    target_now = TARGET(trbits)\n",
    "    detected_np_cut = detected_np[100:,:]\n",
    "    target_now_cut = target_now[100:]\n",
    "        \n",
    "    #Regression and Prediction\n",
    "    regr = linear_model.LinearRegression()\n",
    "    x = regr.fit(detected_np_cut,target_now_cut)\n",
    "    y = regr.predict(detected_np_cut)\n",
    "        \n",
    "    #Error Calculation\n",
    "    mc = regr.score(detected_np_cut,target_now_cut)\n",
    "    #mse = mse_new(target_now_cut,y,Bits)\n",
    "    total_mc = total_mc + mc\n",
    "    print(f'k = {i}, memory capacity = {mc}')\n",
    "#plt.plot(y,label='Predicted')\n",
    "#plt.plot(target_now_cut,label='Target')\n",
    "#plt.legend(loc='upper right')\n",
    "#plt.xlabel('Sample')\n",
    "#plt.ylabel('Power')\n",
    "#plt.xlim(0,30)\n",
    "#plt.show()\n",
    "\n",
    "print(f'total memory capacity: {total_mc}')            "
   ]
  },
  {
   "cell_type": "code",
   "execution_count": null,
   "id": "appreciated-drilling",
   "metadata": {},
   "outputs": [
    {
     "name": "stdout",
     "output_type": "stream",
     "text": [
      "phase: 0.7853981633974483, total memory capacity: 17.207404771388887\n"
     ]
    }
   ],
   "source": [
    "'''----- Training -----'''\n",
    "torch.manual_seed(5)                      #pytorch seed\n",
    "tr_=0.5\n",
    "fb_att_=0\n",
    "wg_delay_=1.02e-9\n",
    "wl0_=1.5501614e-6\n",
    "wl0_va = 1.550161401e-6\n",
    "Bits=N\n",
    "mask_vector = 0.5*torch.rand(Nodes)       #Input mask\n",
    "mzi_l1 = 2e-3\n",
    "mzi_l2 = 13.12e-2\n",
    "loss=20\n",
    "\n",
    "for i in range(1,8):\n",
    "    \n",
    "    total_mc=0  #initialize sum of memory capacity\n",
    "    \n",
    "    wg_phase_=i*(1/4)*np.pi\n",
    "\n",
    "    ring_res_test = dc_reservoir(attenuation=fb_att_, wg_delay=wg_delay_, wg_phase=wg_phase_, \n",
    "                            ng=ng, tr=tr_, neff=neff, mask_vector=mask_vector, nodes=Nodes, mzi_l1=mzi_l1,\n",
    "                            mzi_l2 = mzi_l2, loss=loss)\n",
    "\n",
    "\n",
    "    for i in range(1,Nodes+1):\n",
    "        trbits = mem_cap_Generator(seed=Str)(N, 1) # N bits per train stream, B train streams per batch.\n",
    "        trbits_delay = Delay(x=i,bits=trbits).reshape(N,1)\n",
    "        trstream = streamgen(trbits_delay)\n",
    "        trtarget = streamgen(trbits)\n",
    "        trtarget_np = trtarget.numpy()\n",
    "        t = np.arange(trstream.shape[0], dtype=np.float32)*(1/Rs)\n",
    "    \n",
    "        with pt.Environment(t=t, wl0=wl0_, num_wl=1):\n",
    "            detected = ring_res_test(source=trstream.rename(\"t\", \"b\"))[:,0,0,:] # lower dimensional sources should have named dimensions\n",
    "        \n",
    "        #Data preparation -- Removing the first 200 bits\n",
    "        detected_np = detected.numpy()\n",
    "        detected_np = detected_np.reshape(Bits,Nodes)\n",
    "        target_now = TARGET(trbits)\n",
    "        detected_np_cut = detected_np[100:,:]\n",
    "        target_now_cut = target_now[100:]\n",
    "        \n",
    "        #Regression and Prediction\n",
    "        regr = linear_model.LinearRegression()\n",
    "        x = regr.fit(detected_np_cut,target_now_cut)\n",
    "        y = regr.predict(detected_np_cut)\n",
    "        \n",
    "        #Error Calculation\n",
    "        mc = regr.score(detected_np_cut,target_now_cut)\n",
    "        #mse = mse_new(target_now_cut,y,Bits)\n",
    "        total_mc = total_mc + mc\n",
    "#plt.plot(y,label='Predicted')\n",
    "#plt.plot(target_now_cut,label='Target')\n",
    "#plt.legend(loc='upper right')\n",
    "#plt.xlabel('Sample')\n",
    "#plt.ylabel('Power')\n",
    "#plt.xlim(0,30)\n",
    "#plt.show()\n",
    "\n",
    "    print(f'phase: {wg_phase_}, total memory capacity: {total_mc}')            "
   ]
  },
  {
   "cell_type": "markdown",
   "id": "confidential-classics",
   "metadata": {},
   "source": [
    "length=299792458*wg_delay_/ng\n",
    "print(length-3.88e-3)\n",
    "fsr = 1550e-9**2/(ng*length)\n",
    "fsr2 = 1550e-9**2/(ng*5.88e-3)\n",
    "print(f'fsr of long loop: {fsr}, fsr of short loop: {fsr2}')"
   ]
  }
 ],
 "metadata": {
  "kernelspec": {
   "display_name": "Python 3",
   "language": "python",
   "name": "python3"
  },
  "language_info": {
   "codemirror_mode": {
    "name": "ipython",
    "version": 3
   },
   "file_extension": ".py",
   "mimetype": "text/x-python",
   "name": "python",
   "nbconvert_exporter": "python",
   "pygments_lexer": "ipython3",
   "version": "3.8.5"
  }
 },
 "nbformat": 4,
 "nbformat_minor": 5
}
